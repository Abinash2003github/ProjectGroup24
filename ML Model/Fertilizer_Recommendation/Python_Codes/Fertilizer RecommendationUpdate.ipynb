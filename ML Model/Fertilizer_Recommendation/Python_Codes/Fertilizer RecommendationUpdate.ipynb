{
 "cells": [
  {
   "cell_type": "code",
   "execution_count": 1,
   "id": "747ce8ac",
   "metadata": {},
   "outputs": [],
   "source": [
    "import pandas as pd\n",
    "import matplotlib.pyplot as plt\n",
    "import seaborn as sns\n",
    "import numpy as np\n",
    "from sklearn import metrics\n",
    "import warnings\n",
    "warnings.filterwarnings('ignore')\n"
   ]
  },
  {
   "cell_type": "markdown",
   "id": "881641c8-c787-4fa7-8104-a84e55cf2467",
   "metadata": {},
   "source": [
    "# Import and Modify Data_Set"
   ]
  },
  {
   "cell_type": "markdown",
   "id": "bec3d8cb-47e5-4440-a562-0b2308b50c89",
   "metadata": {},
   "source": [
    "### Import Data_Set and print head()"
   ]
  },
  {
   "cell_type": "code",
   "execution_count": 2,
   "id": "1c8e6dae-70cb-47e9-abc7-2fe2696a17c3",
   "metadata": {},
   "outputs": [
    {
     "name": "stdout",
     "output_type": "stream",
     "text": [
      "Temparature         int64\n",
      "Humidity            int64\n",
      "Moisture            int64\n",
      "Soil_Type          object\n",
      "Crop_Type          object\n",
      "Nitrogen            int64\n",
      "Potassium           int64\n",
      "Phosphorous         int64\n",
      "Fertilizer_Name    object\n",
      "dtype: object \n",
      "\n",
      "Index(['Temparature', 'Humidity ', 'Moisture', 'Soil_Type', 'Crop_Type',\n",
      "       'Nitrogen', 'Potassium', 'Phosphorous', 'Fertilizer_Name'],\n",
      "      dtype='object') \n",
      "\n",
      "   Temparature  Humidity   Moisture Soil_Type  Crop_Type  Nitrogen  Potassium  \\\n",
      "0           26         52        38     Sandy      Maize        37          0   \n",
      "1           29         52        45     Loamy  Sugarcane        12          0   \n",
      "2           34         65        62     Black     Cotton         7          9   \n",
      "3           32         62        34       Red    Tobacco        22          0   \n",
      "4           28         54        46    Clayey      Paddy        35          0   \n",
      "\n",
      "   Phosphorous Fertilizer_Name  \n",
      "0            0            Urea  \n",
      "1           36             DAP  \n",
      "2           30        14-35-14  \n",
      "3           20           28-28  \n",
      "4            0            Urea   \n",
      "\n"
     ]
    }
   ],
   "source": [
    "#import and split data_set \n",
    "fertilizer = pd.read_csv(\"Fertilizer_Prediction.csv\")\n",
    "\n",
    "print(fertilizer.dtypes,'\\n')\n",
    "print(fertilizer.columns,'\\n')\n",
    "print(fertilizer.head(),'\\n')"
   ]
  },
  {
   "cell_type": "markdown",
   "id": "c9c4c838-4482-48b3-9de6-08b0d9e4c79c",
   "metadata": {},
   "source": [
    "### Convert 'String' into 'Numeric' value"
   ]
  },
  {
   "cell_type": "code",
   "execution_count": 3,
   "id": "5537847e-d64f-4b73-b096-7da176c5165c",
   "metadata": {},
   "outputs": [
    {
     "name": "stdout",
     "output_type": "stream",
     "text": [
      "   Temparature  Humidity   Moisture  Soil_Type  Crop_Type  Nitrogen  \\\n",
      "0           26         52        38          4          3        37   \n",
      "1           29         52        45          2          8        12   \n",
      "2           34         65        62          0          1         7   \n",
      "3           32         62        34          3          9        22   \n",
      "4           28         54        46          1          6        35   \n",
      "\n",
      "   Potassium  Phosphorous  Fertilizer_Name  \n",
      "0          0            0                6  \n",
      "1          0           36                5  \n",
      "2          9           30                1  \n",
      "3          0           20                4  \n",
      "4          0            0                6  \n",
      "{'Black': 0, 'Clayey': 1, 'Loamy': 2, 'Red': 3, 'Sandy': 4}\n",
      "{'Barley': 0, 'Cotton': 1, 'Ground Nuts': 2, 'Maize': 3, 'Millets': 4, 'Oil seeds': 5, 'Paddy': 6, 'Pulses': 7, 'Sugarcane': 8, 'Tobacco': 9, 'Wheat': 10}\n",
      "{'10-26-26': 0, '14-35-14': 1, '17-17-17': 2, '20-20': 3, '28-28': 4, 'DAP': 5, 'Urea': 6}\n"
     ]
    }
   ],
   "source": [
    "from sklearn.preprocessing import LabelEncoder\n",
    "encoderSoil = LabelEncoder()\n",
    "encoderCrop = LabelEncoder()\n",
    "encoderFer = LabelEncoder()\n",
    "fertilizer['Soil_Type'] = encoderSoil.fit_transform(fertilizer['Soil_Type'])\n",
    "fertilizer['Crop_Type'] = encoderCrop.fit_transform(fertilizer['Crop_Type'])\n",
    "fertilizer['Fertilizer_Name'] = encoderFer.fit_transform(fertilizer['Fertilizer_Name'])\n",
    "\n",
    "# Print fertilizer head()\n",
    "print(fertilizer.head())\n",
    "\n",
    "# Print mapping for Soil_Type\n",
    "soilMapping = {label: index for index, label in enumerate(encoderSoil.classes_)}\n",
    "print(soilMapping)\n",
    "\n",
    "# Print mapping for Crop_Type\n",
    "cropMapping = {label: index for index, label in enumerate(encoderCrop.classes_)}\n",
    "print(cropMapping)\n",
    "\n",
    "# Print mapping for Fertilizer_Name\n",
    "ferMapping = {label: index for index, label in enumerate(encoderFer.classes_)}\n",
    "print(ferMapping)\n"
   ]
  },
  {
   "cell_type": "markdown",
   "id": "761514c4-e853-4247-8a93-fdc035886d20",
   "metadata": {},
   "source": [
    "### Extract and Split Independent and Dependent variable"
   ]
  },
  {
   "cell_type": "code",
   "execution_count": 4,
   "id": "40330348-ad6d-49f6-8767-cf820db8e96b",
   "metadata": {},
   "outputs": [],
   "source": [
    "#Extracting independent and dependent variable  \n",
    "x=fertilizer.iloc[:,[0,1,2,3,4,5,6,7]].values\n",
    "y=fertilizer.iloc[:,8].values\n",
    "\n",
    "# Splitting the dataset into training and test data_set\n",
    "from sklearn.model_selection import train_test_split\n",
    "x_train, x_test, y_train, y_test = train_test_split(x,y,test_size = 0.20,random_state = 2)"
   ]
  },
  {
   "cell_type": "code",
   "execution_count": 5,
   "id": "4bda5b16-63ab-465c-b8c9-c306d961dbf2",
   "metadata": {},
   "outputs": [
    {
     "name": "stdout",
     "output_type": "stream",
     "text": [
      "[6 5 1 4 6 2 3 6 4 1 5 2 6 4 5 2 6 4 6 5 3 2 5 6 3 4 1 6 5 3 4 5 6 1 4 6 1\n",
      " 5 2 5 3 1 4 6 5 1 3 4 6 1 4 3 6 5 2 4 6 3 2 5 6 3 4 0 6 5 3 1 0 3 4 6 4 6\n",
      " 5 1 4 3 0 5 1 6 5 3 4 1 0 6 0 5 1 0 6 1 4 0 6 5 3]\n"
     ]
    }
   ],
   "source": [
    "print(y)"
   ]
  },
  {
   "cell_type": "markdown",
   "id": "3bb6186e-f61d-40a3-b671-580dce80ef69",
   "metadata": {},
   "source": [
    "### Fit and Transform Data_Set"
   ]
  },
  {
   "cell_type": "code",
   "execution_count": 6,
   "id": "231b28db-5244-4e6b-8072-4b9e7525bb05",
   "metadata": {},
   "outputs": [],
   "source": [
    "#feature Scaling  \n",
    "from sklearn.preprocessing import StandardScaler    \n",
    "st_x= StandardScaler()\n",
    "\n",
    "x_train= st_x.fit_transform(x_train)    \n",
    "x_test= st_x.transform(x_test) "
   ]
  },
  {
   "cell_type": "markdown",
   "id": "a328f3cf-2eb1-49c4-9ff7-c7189a91998e",
   "metadata": {},
   "source": [
    "# Train & Test all Model"
   ]
  },
  {
   "cell_type": "markdown",
   "id": "2facd591-2c12-4660-9648-7eed3b926a76",
   "metadata": {},
   "source": [
    "#### Initialize array to store accuracy and model"
   ]
  },
  {
   "cell_type": "code",
   "execution_count": 7,
   "id": "045e190e",
   "metadata": {},
   "outputs": [],
   "source": [
    "# initialize array to store accuracy and model\n",
    "acc = []\n",
    "model = []"
   ]
  },
  {
   "cell_type": "markdown",
   "id": "9febfd88-0859-476a-9071-1c43e52380ea",
   "metadata": {
    "jp-MarkdownHeadingCollapsed": true
   },
   "source": [
    "## Decision Tree"
   ]
  },
  {
   "cell_type": "markdown",
   "id": "c22a3d26-33dc-4666-a4b7-c7b2ea664a0c",
   "metadata": {},
   "source": [
    "#### Train & Test Model"
   ]
  },
  {
   "cell_type": "code",
   "execution_count": 8,
   "id": "49f393b7-049e-4098-a1ec-c38b6d81197e",
   "metadata": {},
   "outputs": [
    {
     "name": "stdout",
     "output_type": "stream",
     "text": [
      "DecisionTrees's Accuracy is: \n",
      " 85.0 %\n",
      "DecisionTrees's confusion Matrix is: \n",
      " [[0 3 0 0 0 0 0]\n",
      " [0 2 0 0 0 0 0]\n",
      " [0 0 1 0 0 0 0]\n",
      " [0 0 0 4 0 0 0]\n",
      " [0 0 0 0 3 0 0]\n",
      " [0 0 0 0 0 2 0]\n",
      " [0 0 0 0 0 0 5]]\n"
     ]
    }
   ],
   "source": [
    "#Import DecisionTree\n",
    "from sklearn.tree import DecisionTreeClassifier\n",
    "DecisionTree = DecisionTreeClassifier(criterion=\"entropy\",random_state=2, max_depth=5)\n",
    "\n",
    "#### train model\n",
    "DecisionTree.fit(x_train,y_train)\n",
    "\n",
    "#### test model\n",
    "predicted_values = DecisionTree.predict(x_test)\n",
    "accuracy = metrics.accuracy_score(y_test, predicted_values)\n",
    "confusion_matrix = metrics.confusion_matrix(y_test, predicted_values)\n",
    "#### store accuracy\n",
    "acc.append(accuracy) # store accuracy\n",
    "model.append('Decision Tree') # store model name\n",
    "\n",
    "#### Print accuracy\n",
    "print(\"DecisionTrees's Accuracy is: \\n\", accuracy*100, '%')\n",
    "print(\"DecisionTrees's confusion Matrix is: \\n\", confusion_matrix)"
   ]
  },
  {
   "cell_type": "markdown",
   "id": "a73721fb-cd5b-4a9c-b74b-799680721fc7",
   "metadata": {},
   "source": [
    "#### Print cross_val_score"
   ]
  },
  {
   "cell_type": "code",
   "execution_count": 9,
   "id": "2845c675",
   "metadata": {},
   "outputs": [
    {
     "name": "stdout",
     "output_type": "stream",
     "text": [
      "[ 95. 100.  95.  95. 100.] %\n"
     ]
    }
   ],
   "source": [
    "from sklearn.model_selection import cross_val_score\n",
    "score = cross_val_score(DecisionTree, x, y,cv=5)\n",
    "\n",
    "print(score*100,'%')"
   ]
  },
  {
   "cell_type": "markdown",
   "id": "19ad3347-74dc-4f8c-a7a8-cc4cce83a4d1",
   "metadata": {},
   "source": [
    "#### Save Model"
   ]
  },
  {
   "cell_type": "code",
   "execution_count": 10,
   "id": "befd5784",
   "metadata": {},
   "outputs": [],
   "source": [
    "import pickle\n",
    "model_name = 'DecisionTree.pkl'\n",
    "\n",
    "Model_obj = open(model_name, 'wb') # open file\n",
    "pickle.dump(DecisionTree, Model_obj) # Save model\n",
    "Model_obj.close() # close file"
   ]
  },
  {
   "cell_type": "markdown",
   "id": "62d045da-8de2-4956-bc93-f707ab9ebc55",
   "metadata": {},
   "source": [
    "## Guassian Naive Bayes"
   ]
  },
  {
   "cell_type": "markdown",
   "id": "799e7780-ca94-4c82-bffb-4053d131fcce",
   "metadata": {},
   "source": [
    "#### Train & Test Model"
   ]
  },
  {
   "cell_type": "code",
   "execution_count": 11,
   "id": "5a975d1d-1daf-4a6d-9556-f7cc35c0ef9a",
   "metadata": {},
   "outputs": [
    {
     "name": "stdout",
     "output_type": "stream",
     "text": [
      "DecisionTrees's Accuracy is: \n",
      " 85.0 %\n",
      "DecisionTrees's confusion Matrix is: \n",
      " [[0 0 3 0 0 0 0]\n",
      " [0 2 0 0 0 0 0]\n",
      " [0 0 1 0 0 0 0]\n",
      " [0 0 0 4 0 0 0]\n",
      " [0 0 0 0 3 0 0]\n",
      " [0 0 0 0 0 2 0]\n",
      " [0 0 0 0 0 0 5]]\n"
     ]
    }
   ],
   "source": [
    "#### import model\n",
    "from sklearn.naive_bayes import GaussianNB\n",
    "NaiveBayes = GaussianNB()\n",
    "\n",
    "#### train model\n",
    "NaiveBayes.fit(x_train, y_train) \n",
    "\n",
    "#### test model\n",
    "predicted_values = NaiveBayes.predict(x_test)\n",
    "accuracy = metrics.accuracy_score(y_test, predicted_values)\n",
    "confusion_matrix = metrics.confusion_matrix(y_test, predicted_values)\n",
    "#### store accuracy\n",
    "acc.append(accuracy) # store accuracy\n",
    "model.append('Guassian Naive Bayes') # store model name\n",
    "\n",
    "#### Print accuracy\n",
    "print(\"DecisionTrees's Accuracy is: \\n\", accuracy*100, '%')\n",
    "print(\"DecisionTrees's confusion Matrix is: \\n\", confusion_matrix)"
   ]
  },
  {
   "cell_type": "markdown",
   "id": "e97c78d8-9ea3-4290-b128-139e8bbc50f6",
   "metadata": {},
   "source": [
    "#### Print cross_val_score"
   ]
  },
  {
   "cell_type": "code",
   "execution_count": 12,
   "id": "67054275-33ef-4f4b-a5ec-c9411560472c",
   "metadata": {},
   "outputs": [
    {
     "name": "stdout",
     "output_type": "stream",
     "text": [
      "[100. 100. 100. 100. 100.] %\n"
     ]
    }
   ],
   "source": [
    "# Cross validation score (NaiveBayes)\n",
    "score = cross_val_score(NaiveBayes, x, y, cv=5)\n",
    "print(score*100,'%')"
   ]
  },
  {
   "cell_type": "markdown",
   "id": "9be9f76e-0b75-46e8-8668-77ecb800dfa3",
   "metadata": {},
   "source": [
    "#### Save Model"
   ]
  },
  {
   "cell_type": "code",
   "execution_count": 13,
   "id": "ac9a4dc7-62e5-4b24-bc6f-9903a71cc8d0",
   "metadata": {},
   "outputs": [],
   "source": [
    "import pickle\n",
    "model_name = 'NaiveBayes.pkl'\n",
    "\n",
    "Model_obj = open(model_name, 'wb') # open file\n",
    "pickle.dump(NaiveBayes, Model_obj) # Save model\n",
    "Model_obj.close() # close file"
   ]
  },
  {
   "cell_type": "markdown",
   "id": "3f192823-44bd-4ee9-963f-5814b59a5241",
   "metadata": {},
   "source": [
    "## Support Vector Machine (SVM)"
   ]
  },
  {
   "cell_type": "markdown",
   "id": "9ce78f9d-f82f-4024-ac6f-a66199e37f82",
   "metadata": {},
   "source": [
    "#### Train & Test Model"
   ]
  },
  {
   "cell_type": "code",
   "execution_count": 14,
   "id": "c5abe279-0989-46e2-83ed-d1bbc20d11ab",
   "metadata": {},
   "outputs": [
    {
     "name": "stdout",
     "output_type": "stream",
     "text": [
      "DecisionTrees's Accuracy is: \n",
      " 75.0 %\n",
      "DecisionTrees's confusion Matrix is: \n",
      " [[0 2 1 0 0 0 0]\n",
      " [0 1 1 0 0 0 0]\n",
      " [0 1 0 0 0 0 0]\n",
      " [0 0 0 4 0 0 0]\n",
      " [0 0 0 0 3 0 0]\n",
      " [0 0 0 0 0 2 0]\n",
      " [0 0 0 0 0 0 5]]\n"
     ]
    }
   ],
   "source": [
    "#### import model \n",
    "from sklearn.svm import SVC\n",
    "SVM = SVC(gamma='auto')\n",
    "\n",
    "#### train model\n",
    "SVM.fit(x_train,y_train) \n",
    "\n",
    "#### test model\n",
    "predicted_values = SVM.predict(x_test)\n",
    "accuracy = metrics.accuracy_score(y_test, predicted_values)\n",
    "confusion_matrix = metrics.confusion_matrix(y_test, predicted_values)\n",
    "#### store accuracy\n",
    "acc.append(accuracy) # store accuracy\n",
    "model.append('Guassian Naive Bayes') # store model name\n",
    "\n",
    "#### Print accuracy\n",
    "print(\"DecisionTrees's Accuracy is: \\n\", accuracy*100, '%')\n",
    "print(\"DecisionTrees's confusion Matrix is: \\n\", confusion_matrix)"
   ]
  },
  {
   "cell_type": "code",
   "execution_count": null,
   "id": "ff0ce7e2-5aa6-43d6-a306-0ee9f448f242",
   "metadata": {},
   "outputs": [],
   "source": []
  },
  {
   "cell_type": "markdown",
   "id": "ec696033-a841-4c0f-8235-187ab146d6df",
   "metadata": {},
   "source": [
    "#### Print cross_val_score"
   ]
  },
  {
   "cell_type": "code",
   "execution_count": 15,
   "id": "e2ab9030-8f77-4772-892a-5bcdf3a6edc4",
   "metadata": {},
   "outputs": [
    {
     "name": "stdout",
     "output_type": "stream",
     "text": [
      "[35.         25.         30.         20.         26.31578947] %\n"
     ]
    }
   ],
   "source": [
    "# Cross validation score (SVM)\n",
    "score = cross_val_score(SVM, x, y, cv=5)\n",
    "print(score*100,'%')"
   ]
  },
  {
   "cell_type": "markdown",
   "id": "f9b63b01-77cb-485e-a3ed-7a578d35c828",
   "metadata": {},
   "source": [
    "#### Save Model"
   ]
  },
  {
   "cell_type": "code",
   "execution_count": 16,
   "id": "7a31f45b-12d5-4dbb-bd15-8d4bed9687d7",
   "metadata": {},
   "outputs": [],
   "source": [
    "import pickle\n",
    "model_name = 'SupportVectorMachine.pkl'\n",
    "\n",
    "Model_obj = open(model_name, 'wb') # open file\n",
    "pickle.dump(SVM, Model_obj) # Save model\n",
    "Model_obj.close() # close file"
   ]
  },
  {
   "cell_type": "markdown",
   "id": "00d6c9aa-c301-45ca-b056-41efc58592ed",
   "metadata": {},
   "source": [
    "## Logistic Regression"
   ]
  },
  {
   "cell_type": "markdown",
   "id": "f0101bcc-58ec-4f78-8e4c-d565f372f999",
   "metadata": {},
   "source": [
    "#### Train & Test Model"
   ]
  },
  {
   "cell_type": "code",
   "execution_count": 17,
   "id": "d46121c7-030e-48b6-ac6c-649eb47048e3",
   "metadata": {},
   "outputs": [
    {
     "name": "stdout",
     "output_type": "stream",
     "text": [
      "DecisionTrees's Accuracy is: \n",
      " 90.0 %\n",
      "DecisionTrees's confusion Matrix is: \n",
      " [[1 2 0 0 0 0 0]\n",
      " [0 2 0 0 0 0 0]\n",
      " [0 0 1 0 0 0 0]\n",
      " [0 0 0 4 0 0 0]\n",
      " [0 0 0 0 3 0 0]\n",
      " [0 0 0 0 0 2 0]\n",
      " [0 0 0 0 0 0 5]]\n"
     ]
    }
   ],
   "source": [
    "#### import model \n",
    "from sklearn.linear_model import LogisticRegression\n",
    "LogReg = LogisticRegression(random_state=2)\n",
    "\n",
    "#### train model\n",
    "LogReg.fit(x_train,y_train) \n",
    "\n",
    "### test model\n",
    "predicted_values = LogReg.predict(x_test)\n",
    "\n",
    "accuracy = metrics.accuracy_score(y_test, predicted_values)\n",
    "confusion_matrix = metrics.confusion_matrix(y_test, predicted_values)\n",
    "\n",
    "#### store accuracy\n",
    "acc.append(accuracy) # store accuracy\n",
    "model.append('Logistic Regression') # store model name\n",
    "\n",
    "#### Print accuracy\n",
    "print(\"DecisionTrees's Accuracy is: \\n\", accuracy*100, '%')\n",
    "print(\"DecisionTrees's confusion Matrix is: \\n\", confusion_matrix)"
   ]
  },
  {
   "cell_type": "markdown",
   "id": "a4c425fb-efb3-45c2-8b94-48d8e689758a",
   "metadata": {},
   "source": [
    "#### Print cross_val_score"
   ]
  },
  {
   "cell_type": "code",
   "execution_count": 18,
   "id": "b1777e72-01b8-4d58-a1fb-e4ab74933660",
   "metadata": {},
   "outputs": [
    {
     "name": "stdout",
     "output_type": "stream",
     "text": [
      "[ 95. 100. 100. 100. 100.] %\n"
     ]
    }
   ],
   "source": [
    "# Cross validation score (Logistic Regression)\n",
    "score = cross_val_score(LogReg, x, y, cv=5)\n",
    "\n",
    "print(score*100,'%')"
   ]
  },
  {
   "cell_type": "markdown",
   "id": "e7388460-3b22-406e-9f82-aaa965593178",
   "metadata": {},
   "source": [
    "#### Save Model"
   ]
  },
  {
   "cell_type": "code",
   "execution_count": 19,
   "id": "77ce7f05",
   "metadata": {},
   "outputs": [],
   "source": [
    "import pickle\n",
    "model_name = 'LogisticRegression.pkl'\n",
    "\n",
    "Model_obj = open(model_name, 'wb') # open file\n",
    "pickle.dump(LogReg, Model_obj) # Save model\n",
    "Model_obj.close() # close file"
   ]
  },
  {
   "cell_type": "markdown",
   "id": "80c55407-da3c-40ae-bd7a-a791f3a50372",
   "metadata": {},
   "source": [
    "## Random Forest"
   ]
  },
  {
   "cell_type": "markdown",
   "id": "bbd4ff64-3d0f-421a-80ba-1ee33e7b8365",
   "metadata": {},
   "source": [
    "#### Train & Test Model"
   ]
  },
  {
   "cell_type": "code",
   "execution_count": 20,
   "id": "0d38edb0-2106-48fa-971a-00c1662d1be6",
   "metadata": {},
   "outputs": [
    {
     "name": "stdout",
     "output_type": "stream",
     "text": [
      "DecisionTrees's Accuracy is: \n",
      " 90.0 %\n",
      "DecisionTrees's confusion Matrix is: \n",
      " [[1 1 1 0 0 0 0]\n",
      " [0 2 0 0 0 0 0]\n",
      " [0 0 1 0 0 0 0]\n",
      " [0 0 0 4 0 0 0]\n",
      " [0 0 0 0 3 0 0]\n",
      " [0 0 0 0 0 2 0]\n",
      " [0 0 0 0 0 0 5]]\n"
     ]
    }
   ],
   "source": [
    "#### import model\n",
    "from sklearn.ensemble import RandomForestClassifier\n",
    "RF = RandomForestClassifier(n_estimators=20, random_state=0)\n",
    "\n",
    "#### train model\n",
    "RF.fit(x_train,y_train)\n",
    "\n",
    "#### test model\n",
    "predicted_values = RF.predict(x_test)\n",
    "accuracy = metrics.accuracy_score(y_test, predicted_values)\n",
    "confusion_matrix = metrics.confusion_matrix(y_test, predicted_values)\n",
    "#### store accuracy\n",
    "acc.append(accuracy) # store accuracy\n",
    "model.append('Random Forest') # store model name\n",
    "\n",
    "#### Print accuracy\n",
    "print(\"DecisionTrees's Accuracy is: \\n\", accuracy*100, '%')\n",
    "print(\"DecisionTrees's confusion Matrix is: \\n\", confusion_matrix)"
   ]
  },
  {
   "cell_type": "markdown",
   "id": "c1276d13-b060-4c28-9b02-4966a25d85a4",
   "metadata": {},
   "source": [
    "#### Print cross_val_score"
   ]
  },
  {
   "cell_type": "code",
   "execution_count": 21,
   "id": "07f4a366-fa7f-4ef2-9255-851b2e975bc6",
   "metadata": {},
   "outputs": [
    {
     "name": "stdout",
     "output_type": "stream",
     "text": [
      "[ 90. 100. 100.  90. 100.] %\n"
     ]
    }
   ],
   "source": [
    "# Cross validation score (Random Forest)\n",
    "score = cross_val_score(RF, x, y, cv=5)\n",
    "print(score*100,'%')"
   ]
  },
  {
   "cell_type": "markdown",
   "id": "2fecc639-2b61-47f1-ae3b-866e65d86d28",
   "metadata": {},
   "source": [
    "#### Save Model"
   ]
  },
  {
   "cell_type": "code",
   "execution_count": 22,
   "id": "9281437e",
   "metadata": {},
   "outputs": [],
   "source": [
    "import pickle\n",
    "model_name = 'RandomForest.pkl'\n",
    "\n",
    "Model_obj = open(model_name, 'wb') # open file\n",
    "pickle.dump(RF, Model_obj) # Save model\n",
    "Model_obj.close() # close file"
   ]
  },
  {
   "cell_type": "markdown",
   "id": "01dd3992-e8da-406a-8bef-a47068983ac3",
   "metadata": {},
   "source": [
    "# Accuracy Comparison¶"
   ]
  },
  {
   "cell_type": "code",
   "execution_count": 23,
   "id": "b2ec6f70",
   "metadata": {},
   "outputs": [
    {
     "data": {
      "text/plain": [
       "Text(0, 0.5, 'Algorithm')"
      ]
     },
     "execution_count": 23,
     "metadata": {},
     "output_type": "execute_result"
    },
    {
     "data": {
      "image/png": "[encoded data removed]",
      "text/plain": [
       "<Figure size 1000x500 with 1 Axes>"
      ]
     },
     "metadata": {},
     "output_type": "display_data"
    }
   ],
   "source": [
    "#Accuracy Comparison¶\n",
    "plt.figure(figsize=[10,5],dpi = 100)\n",
    "\n",
    "sns.barplot(x=acc, y=model, palette='dark')\n",
    "\n",
    "plt.title('Accuracy Comparison')\n",
    "plt.xlabel('Accuracy')\n",
    "plt.ylabel('Algorithm')"
   ]
  },
  {
   "cell_type": "code",
   "execution_count": 24,
   "id": "b06590de",
   "metadata": {},
   "outputs": [
    {
     "name": "stdout",
     "output_type": "stream",
     "text": [
      "Decision Tree --> 85.0 %\n",
      "Guassian Naive Bayes --> 75.0 %\n",
      "Logistic Regression --> 90.0 %\n",
      "Random Forest --> 90.0 %\n"
     ]
    }
   ],
   "source": [
    "accuracy_models = dict(zip(model, acc))\n",
    "for k, v in accuracy_models.items():\n",
    "    print (k, '-->', v*100,'%')"
   ]
  },
  {
   "cell_type": "markdown",
   "id": "65308f67-183b-4ba9-b4f9-eb5565118611",
   "metadata": {},
   "source": [
    "# Custom prediction"
   ]
  },
  {
   "cell_type": "code",
   "execution_count": 25,
   "id": "ccd15948",
   "metadata": {},
   "outputs": [
    {
     "name": "stdout",
     "output_type": "stream",
     "text": [
      "[5]\n",
      "[5]\n"
     ]
    }
   ],
   "source": [
    "#Making a prediction¶\n",
    "\n",
    "# 25,50,7,24,0,19, 28-28\n",
    "\n",
    "data = np.array([[36         60        43          4         , 4       , 15, 0        ,   41]])\n",
    "prediction = RF.predict(data)\n",
    "print(prediction)\n",
    "prediction = DecisionTree.predict(data)\n",
    "print(prediction)"
   ]
  },
  {
   "cell_type": "code",
   "execution_count": 26,
   "id": "4aca9d59-3345-405d-8d39-30e1f1a6e85e",
   "metadata": {},
   "outputs": [
    {
     "name": "stdout",
     "output_type": "stream",
     "text": [
      "    Temparature  Humidity   Moisture  Soil_Type  Crop_Type  Nitrogen  \\\n",
      "0            26         52        38          4          3        37   \n",
      "1            29         52        45          2          8        12   \n",
      "2            34         65        62          0          1         7   \n",
      "3            32         62        34          3          9        22   \n",
      "4            28         54        46          1          6        35   \n",
      "..          ...        ...       ...        ...        ...       ...   \n",
      "94           25         50        32          1          7        24   \n",
      "95           30         60        27          3          9         4   \n",
      "96           38         72        51          2         10        39   \n",
      "97           36         60        43          4          4        15   \n",
      "98           29         58        57          0          8        12   \n",
      "\n",
      "    Potassium  Phosphorous  Fertilizer_Name  \n",
      "0           0            0                6  \n",
      "1           0           36                5  \n",
      "2           9           30                1  \n",
      "3           0           20                4  \n",
      "4           0            0                6  \n",
      "..        ...          ...              ...  \n",
      "94          0           19                4  \n",
      "95         17           17                0  \n",
      "96          0            0                6  \n",
      "97          0           41                5  \n",
      "98          0           10                3  \n",
      "\n",
      "[99 rows x 9 columns]\n"
     ]
    }
   ],
   "source": [
    "print(fertilizer)"
   ]
  },
  {
   "cell_type": "code",
   "execution_count": null,
   "id": "b146126d-3fe5-4918-9890-cb5f81357d78",
   "metadata": {},
   "outputs": [],
   "source": []
  }
 ],
 "metadata": {
  "kernelspec": {
   "display_name": "Python 3 (ipykernel)",
   "language": "python",
   "name": "python3"
  },
  "language_info": {
   "codemirror_mode": {
    "name": "ipython",
    "version": 3
   },
   "file_extension": ".py",
   "mimetype": "text/x-python",
   "name": "python",
   "nbconvert_exporter": "python",
   "pygments_lexer": "ipython3",
   "version": "3.12.0"
  }
 },
 "nbformat": 4,
 "nbformat_minor": 5
}
